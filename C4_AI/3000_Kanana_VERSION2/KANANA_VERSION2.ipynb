{
 "cells": [
  {
   "cell_type": "code",
   "execution_count": null,
   "id": "33342294",
   "metadata": {},
   "outputs": [],
   "source": [
    "%pip install transformers torch"
   ]
  },
  {
   "cell_type": "code",
   "execution_count": null,
   "id": "0800f1e3",
   "metadata": {},
   "outputs": [],
   "source": [
    "%pip install transformers peft datasets bitsandbytes accelerate ipywidgets\n"
   ]
  },
  {
   "cell_type": "code",
   "execution_count": null,
   "id": "cda98ed8",
   "metadata": {},
   "outputs": [],
   "source": [
    "# 모델을 직접 로드하여 사용\n",
    "from transformers import AutoTokenizer, AutoModelForCausalLM\n",
    "\n",
    "# 토크나이저 및 모델 로드\n",
    "tokenizer = AutoTokenizer.from_pretrained(\"kakaocorp/kanana-nano-2.1b-instruct\")\n",
    "model = AutoModelForCausalLM.from_pretrained(\"kakaocorp/kanana-nano-2.1b-instruct\")\n",
    "\n",
    "# 텍스트를 토크나이즈하여 모델 입력 형태로 변환\n",
    "input_text = \"Who are you?\"\n",
    "inputs = tokenizer(input_text, return_tensors=\"pt\")\n",
    "\n",
    "# 모델을 사용하여 출력 생성\n",
    "outputs = model.generate(inputs[\"input_ids\"], max_length=100, do_sample=True)\n",
    "\n",
    "# 출력 디코딩\n",
    "output_text = tokenizer.decode(outputs[0], skip_special_tokens=True)\n",
    "print(output_text)  # 생성된 텍스트 출력\n"
   ]
  },
  {
   "cell_type": "code",
   "execution_count": null,
   "id": "e36f2bdd",
   "metadata": {},
   "outputs": [],
   "source": [
    "# 출력 개수 제한 + linear 계층만 필터링\n",
    "for name, module in model.named_modules():\n",
    "    if \"linear\" in str(type(module)).lower():\n",
    "        print(name)\n"
   ]
  },
  {
   "cell_type": "code",
   "execution_count": null,
   "id": "12665a38",
   "metadata": {},
   "outputs": [],
   "source": [
    "from transformers import AutoTokenizer, AutoModelForCausalLM\n",
    "from peft import get_peft_model, LoraConfig, TaskType, prepare_model_for_kbit_training\n",
    "\n",
    "# 1. 모델 지정\n",
    "model_id = \"kakaocorp/kanana-nano-2.1b-instruct\"  \n",
    "\n",
    "# 2. 토크나이저 & 모델 불러오기 (8bit 로딩 + GPU 자동 할당)\n",
    "tokenizer = AutoTokenizer.from_pretrained(model_id, use_fast=False)\n",
    "model = AutoModelForCausalLM.from_pretrained(\n",
    "    model_id,\n",
    "    load_in_8bit=True,\n",
    "    device_map=\"auto\"\n",
    ")\n",
    "\n",
    "# 3. LoRA 학습을 위한 모델 준비\n",
    "model = prepare_model_for_kbit_training(model)\n",
    "\n",
    "# 4. Kanana-nano-2.1b-instruct 전용 target_modules로 LoRA 설정\n",
    "\n",
    "llora_config = LoraConfig(\n",
    "    r=8,  # rank\n",
    "    lora_alpha=16,  # LoRA 계수\n",
    "    target_modules=[\n",
    "        \"self_attn.q_proj\", \n",
    "        \"self_attn.k_proj\", \n",
    "        \"self_attn.v_proj\", \n",
    "        \"self_attn.o_proj\", \n",
    "        \"mlp.gate_proj\", \n",
    "        \"mlp.up_proj\", \n",
    "        \"mlp.down_proj\"\n",
    "    ],  # LoRA 적용할 계층들\n",
    "    lora_dropout=0.05,  # 드롭아웃 비율\n",
    "    bias=\"none\",  # 편향을 어떻게 처리할지\n",
    "    task_type=TaskType.CAUSAL_LM  # 언어 모델링 작업\n",
    ")\n",
    "\n",
    "# LoRA 적용된 모델 생성\n",
    "model = get_peft_model(model, llora_config)\n",
    "\n",
    "# 학습 가능한 파라미터 출력\n",
    "model.print_trainable_parameters()"
   ]
  },
  {
   "cell_type": "code",
   "execution_count": null,
   "id": "391a8d42",
   "metadata": {},
   "outputs": [],
   "source": [
    "from datasets import load_dataset\n",
    "\n",
    "# 1. CSV 로딩\n",
    "dataset = load_dataset(\"csv\", data_files=\"/app/workspace/Kanana_VERSION2/midjourney2.csv\", split=\"train\")\n",
    "\n",
    "# 2. 전처리 함수 정의\n",
    "def format_prompt(example):\n",
    "    prompt = f\"### 질문: {example['long_prompt']}\\n### 답변:\"\n",
    "    return tokenizer(prompt, text_target=example['short_prompt'], truncation=True, padding=\"max_length\", max_length=512)\n",
    "\n",
    "# 3. 전처리 적용\n",
    "tokenized_dataset = dataset.map(format_prompt)\n"
   ]
  },
  {
   "cell_type": "code",
   "execution_count": null,
   "id": "9650288a",
   "metadata": {},
   "outputs": [],
   "source": [
    "from transformers import TrainingArguments, Trainer, DataCollatorForLanguageModeling\n",
    "\n",
    "# 1. 학습 설정\n",
    "training_args = TrainingArguments(\n",
    "    output_dir=\"/app/workspace/qlora_outputs\",\n",
    "    per_device_train_batch_size=1,\n",
    "    gradient_accumulation_steps=4,\n",
    "    num_train_epochs=3,\n",
    "    learning_rate=2e-4,\n",
    "    logging_steps=1,\n",
    "    bf16=True,\n",
    "    save_strategy=\"no\",\n",
    "    report_to=\"none\"\n",
    ")\n",
    "\n",
    "# 2. Trainer 구성\n",
    "trainer = Trainer(\n",
    "    model=model,\n",
    "    args=training_args,\n",
    "    train_dataset=tokenized_dataset,\n",
    "    tokenizer=tokenizer,\n",
    "    data_collator=DataCollatorForLanguageModeling(tokenizer, mlm=False)\n",
    ")\n",
    "\n",
    "# 3. 학습 시작\n",
    "trainer.train()\n"
   ]
  },
  {
   "cell_type": "code",
   "execution_count": null,
   "id": "6a03e3c9",
   "metadata": {},
   "outputs": [],
   "source": [
    "model.save_pretrained(\"/home/piai/workspace/Kanana_VERSION2\")\n",
    "tokenizer.save_pretrained(\"/home/piai/workspace/Kanana_VERSION2\")\n"
   ]
  },
  {
   "cell_type": "code",
   "execution_count": 1,
   "id": "b6579d3f",
   "metadata": {},
   "outputs": [],
   "source": [
    "from transformers import BitsAndBytesConfig\n",
    "from transformers import AutoModelForCausalLM, AutoTokenizer\n",
    "from peft import PeftModel\n",
    "\n",
    "# 1. 8bit 로딩 설정\n",
    "bnb_config = BitsAndBytesConfig(\n",
    "    load_in_8bit=True,\n",
    "    llm_int8_threshold=6.0,\n",
    "    llm_int8_skip_modules=None,\n",
    "    llm_int8_enable_fp32_cpu_offload=True  # 핵심!\n",
    ")\n",
    "\n",
    "# 2. Base 모델 로딩\n",
    "base_model = AutoModelForCausalLM.from_pretrained(\n",
    "    \"kakaocorp/kanana-nano-2.1b-instruct\",\n",
    "    device_map=\"auto\",\n",
    "    quantization_config=bnb_config\n",
    ")\n",
    "\n",
    "# 3. LoRA adapter 붙이기\n",
    "model = PeftModel.from_pretrained(base_model, \"/home/piai/workspace/Kanana_VERSION2\")\n",
    "model.eval()\n",
    "\n",
    "# 4. Tokenizer 불러오기\n",
    "tokenizer = AutoTokenizer.from_pretrained(\"/home/piai/workspace/Kanana_VERSION2\", use_fast=False)\n",
    "\n",
    "# 5. 추론 함수\n",
    "def rewrite_prompt(input_ko):\n",
    "    prompt = f\"### 질문: {input_ko}\\n### 답변:\"\n",
    "    inputs = tokenizer(prompt, return_tensors=\"pt\").to(\"cuda\")\n",
    "\n",
    "    # 불필요한 'token_type_ids' 제거\n",
    "    if 'token_type_ids' in inputs:\n",
    "        inputs.pop('token_type_ids')\n",
    "\n",
    "    # 출력 생성\n",
    "    outputs = model.generate(\n",
    "        **inputs,\n",
    "        max_new_tokens=300,  # 생성될 최대 토큰 수\n",
    "        max_length = 500,\n",
    "        do_sample=False,  # 샘플링 활성화\n",
    "        # temperature=0.5,  # 창의적 출력을 유도\n",
    "        # top_p=0.9,  # nucleus sampling\n",
    "        # top_k=50,  # 샘플링 범위 제한\n",
    "        repetition_penalty=1.5,  # 반복 방지\n",
    "        eos_token_id=tokenizer.eos_token_id,  # 종료 토큰 설정\n",
    "        pad_token_id=tokenizer.pad_token_id,  # 패딩 토큰 설정\n",
    "        num_return_sequences=1,  # 반환할 시퀀스 개수\n",
    "        no_repeat_ngram_size=2  # 2-그램 반복 방지\n",
    "    )\n",
    "    \n",
    "    # 결과 디코딩\n",
    "    output_text = tokenizer.decode(outputs[0], skip_special_tokens=True)\n",
    "    \n",
    "    return output_text\n"
   ]
  },
  {
   "cell_type": "code",
   "execution_count": 2,
   "id": "763d8844",
   "metadata": {},
   "outputs": [
    {
     "name": "stderr",
     "output_type": "stream",
     "text": [
      "Both `max_new_tokens` (=300) and `max_length`(=500) seem to have been set. `max_new_tokens` will take precedence. Please refer to the documentation for more information. (https://huggingface.co/docs/transformers/main/en/main_classes/text_generation)\n"
     ]
    },
    {
     "name": "stdout",
     "output_type": "stream",
     "text": [
      "💬 결과:\n",
      " ### 질문: 창문 너머를 바라보는 고양이를 그리고싶은데, 미드저니 고도화 프롬프트 작성해줘\n",
      "### 답변: \n",
      "**제목:** \"창밖을 내다보며 생각에 잠긴 매력적인 검정색 코비 푸들\"\n",
      "**\n",
      "### 설명:\n",
      "이 그림에서는 귀여운 성격의 소유자이자 사랑스러운 반려동물인 푸들이 등장합니다. 그의 털 색깔과 외모가 독특한 개성으로 돋보이며, 특히 눈길을 끄는 것은 그 모습입니다.\n",
      "**\n",
      "#### 설정 및 배경 정보  \n",
      "- **장소**: 집 안에서 가족들과 함께 지내고 있는 가정집 실내 환경,\n",
      "  - 따뜻하고 아늑하며 편안함을 주는 분위기 연출,\n",
      "    ```markdown\n",
      "```json\n",
      "{\n",
      "   \"$model\": null,\n",
      "\n",
      "   // 기본 옵션 값 초기설정\n",
      "\n",
      "}\n",
      "```\n",
      "---\n",
      "## Midjourney Prompt for Generating the Image with Advanced Prompts:\n",
      "\n",
      "1. Create a detailed illustration of an adorable black and white Poodle dog sitting in front of his home window.\n",
      "\n",
      "2. The image should depict him gazing out into nature or looking at family members outside from inside their house while being gently petted by them on couches if available as part of your prompt to enhance realism further using advanced features like photorealism settings etc., which can be set through additional parameters when generating images via midjourneys API v5 later versions after version V4 release date mentioned below above setting these options will not affect other parts but only\n"
     ]
    }
   ],
   "source": [
    "# 5. 테스트!\n",
    "example = \"창문 너머를 바라보는 고양이를 그리고싶은데, 미드저니 고도화 프롬프트 작성해줘\"\n",
    "print(\"💬 결과:\\n\", rewrite_prompt(example))"
   ]
  },
  {
   "cell_type": "code",
   "execution_count": 7,
   "id": "e53df66e",
   "metadata": {},
   "outputs": [
    {
     "name": "stderr",
     "output_type": "stream",
     "text": [
      "Both `max_new_tokens` (=300) and `max_length`(=500) seem to have been set. `max_new_tokens` will take precedence. Please refer to the documentation for more information. (https://huggingface.co/docs/transformers/main/en/main_classes/text_generation)\n"
     ]
    },
    {
     "name": "stdout",
     "output_type": "stream",
     "text": [
      "💬 결과:\n",
      " ### 질문: 현대식 화려한 건물을 그리고 싶은데 미드저니 프롬프트 작성해줘\n",
      "### 답변: Create a detailed digital illustration of an elegant modern building. The structure should be designed in the style of contemporary architecture, with sleek lines and precise proportions that reflect its sophisticated design language.\n",
      "#### Description:\n",
      "The main focus is on creating intricate details to enhance visual interest while maintaining clarity throughout different elements within your artwork.\n",
      "\n",
      "1. **Building Design**:\n",
      "\n",
      "   - Use bold colors such as metallic shades like silver or gold for walls,\n",
      "     polished metal accents,\n",
      "\n",
      "2.  Optimize lighting effects by using bright light sources from various angles\n",
      "\n",
      "3.    Incorporate natural features through greenery plants at appropriate locations inside buildings \n",
      "4.      Add architectural detailing including columns , arches \n",
      "\n",
      "5. Constructing complex shapes around windows which are large enough so they provide ample space without being too overwhelming  \n",
      "6. Enhance depth perception via perspective techniques applied consistently across multiple layers   \n",
      "7. Utilize textures effectively e.g., smooth surfaces contrasted against rough ones    \n",
      "8. Integrate materials suitable according to climate conditions i.e.,\n",
      "       Insulate properly during winter months when it gets cold outside\n",
      "    \n",
      "9. Ensure proper spacing between components ensuring balance overall layout  \n",
      "\n",
      "10.Create dynamic composition incorporating movement along edges created due to irregularities found naturally but made more pronounced artisically if desired . This will add variety visually making image stand out further apart than other images you may see online .\n",
      "11.Add additional detail where necessary based upon user preference whether this includes adding small decorative items above each window etc.. If not wanted leave them blank instead allowing\n"
     ]
    }
   ],
   "source": [
    "# 5. 테스트!\n",
    "example = \"현대식 화려한 건물을 그리고 싶은데 미드저니 프롬프트 작성해줘\"\n",
    "print(\"💬 결과:\\n\", rewrite_prompt(example))"
   ]
  },
  {
   "cell_type": "code",
   "execution_count": 6,
   "id": "618321c6",
   "metadata": {},
   "outputs": [
    {
     "name": "stdout",
     "output_type": "stream",
     "text": [
      "💬 결과:\n",
      " ### 질문: 도서관에서 피아노 치고 있는 사람, 미드저니 프롬프트 작성해줘\n",
      "### 답변: \"A detailed digital illustration of a person in an elegant library attire seated at the foot of an oak table. The warm glow from their piano illuminates books and shelves against dark wooden walls adorned with bookshelves.\"\n",
      "#### 추가 설명:\n",
      "- **도서와 음악의 조화**: 책과 악기가 공존하는 장면을 그려달라는 요청.\n",
      "- *피아니스트*는 고전적인 복장을 하고 있으며, 분위기 잡힌 서재 한가운데에 자리잡고 있다.\n",
      "  - 밝은 빛이 들어오는 창문 근처라 따뜻한 느낌이다.\n",
      "\n",
      "미드 저니를 통해 이 이미지를 생성하면 다음과 같은 결과물을 얻을 수 있을 것입니다:\n",
      "\n",
      "!\n"
     ]
    }
   ],
   "source": [
    "# 5. 테스트!\n",
    "example = \"도서관에서 피아노 치고 있는 사람\"\n",
    "print(\"💬 결과:\\n\", rewrite_prompt(example))"
   ]
  },
  {
   "cell_type": "code",
   "execution_count": 7,
   "id": "0d4347f5",
   "metadata": {},
   "outputs": [
    {
     "name": "stdout",
     "output_type": "stream",
     "text": [
      "💬 결과:\n",
      " ### 질문: 풀숲에서 똥 싸다가 눈마주쳐서 놀란 고양이 그려줘줘줘, 미드저니 프롬프트 작성해줘\n",
      "### 답변: \"A whimsical scene featuring a curious cat in the forest. The central subject is an adorable gray and white feline with large eyes gazing directly at viewers while sitting on grass near lush green foliage under starry night sky.\"\n",
      "#### Midjourney Prisma Prompt:\n",
      "\"A charming close-up of your favorite furry friend up to their chins inside dense trees & vibrant leaves against dark blue background creating mystery w/ stars lighting it all.\" \n",
      "Feel free to adjust for specific details! 🐱🌳😊\n",
      "\n",
      " ### 추가 설명 및 예시 이미지 링크:\n",
      "\n",
      "**추가 설명:** 이 프라이머리는 귀여운 시각적 요소를 강조하여 중점적으로 보여줄 수 있도록 구성했습니다.\n",
      "- **고양이를\n"
     ]
    }
   ],
   "source": [
    "# 5. 테스트!\n",
    "example = \"풀숲에서 똥 싸다가 눈마주쳐서 놀란 고양이 그려줘줘줘\"\n",
    "print(\"💬 결과:\\n\", rewrite_prompt(example))"
   ]
  },
  {
   "cell_type": "code",
   "execution_count": 8,
   "id": "fca2fc34",
   "metadata": {},
   "outputs": [
    {
     "name": "stdout",
     "output_type": "stream",
     "text": [
      "💬 결과:\n",
      " ### 질문: 도서관에서 피아노 치고 있는 사람을 그리고 싶은데데데 미드저니 프롬프트 작성해줘, 미드저니 프롬프트 작성해줘\n",
      "### 답변: \"A serene scene of a person lost in music within the tranquil atmosphere of an ancient library. The subject is centered and surrounded by wooden columns with bookshelves at their feet while soft light illuminates everything from above.\"\n",
      "#### 추가 설명:\n",
      "- **도입부**: 사람이 책과 음악 사이에 평화롭게 존재하는 장면.\n",
      "- *중심 요소*: 중심이 되는 인물(피아니스), 그의 자세와 주변 환경인 고요한 도서실 내 분위기 강조.\n",
      "  - 조명 방식으로 따뜻하고 차분함 표현 (천장의 창이나 전등).\n",
      "  \n",
      "---\n",
      "\n",
      "**미드져너 이미지 예시:** \n",
      "1) 한 남자가 검정색\n"
     ]
    }
   ],
   "source": [
    "# 5. 테스트!\n",
    "example = \"도서관에서 피아노 치고 있는 사람을 그리고 싶은데데데 미드저니 프롬프트 작성해줘\"\n",
    "print(\"💬 결과:\\n\", rewrite_prompt(example))"
   ]
  },
  {
   "cell_type": "code",
   "execution_count": 9,
   "id": "19ecbd5e",
   "metadata": {},
   "outputs": [
    {
     "name": "stdout",
     "output_type": "stream",
     "text": [
      "💬 결과:\n",
      " ### 질문: 스카이 다이빙하고 있는 아기 고양이 5마리가 하늘에서 별을 만든 모습, 미드저니 프롬프트 작성해줘\n",
      "### 답변: \"A whimsical scene of five playful kittens skydiving together. Each kitten is a miniature world with their own unique color palette and accessories against an ethereal blue backdrop filled with stars.\"\n",
      "#### Midjourney Prisma Prompt:\n",
      "1. A cute cartoon image featuring three white kittens in gray suits jumping off from high above.\n",
      "2. The cats are surrounded by bubbles adorned with colorful balloons on the ground below them while birds fly around to add movement.\n",
      "\n",
      "This prompt captures the joyous spirit behind each kitty's action as they leap into mid-air during your journey! 🐱🚀✨️\n",
      "\n",
      "### 추가 설명 및 예시 이미지 링크:\n",
      "\n",
      "- **미적 요소**: Colorful balloon decorations enhance playfulness; warm background colors like\n"
     ]
    }
   ],
   "source": [
    "# 5. 테스트!\n",
    "example = \"스카이 다이빙하고 있는 아기 고양이 5마리가 하늘에서 별을 만든 모습\"\n",
    "print(\"💬 결과:\\n\", rewrite_prompt(example))"
   ]
  },
  {
   "cell_type": "code",
   "execution_count": 10,
   "id": "202f71a2",
   "metadata": {},
   "outputs": [
    {
     "name": "stdout",
     "output_type": "stream",
     "text": [
      "💬 결과:\n",
      " ### 질문: 스카이 다이빙하고 있는 아기 고양이 5마리가 하늘에서 별을 만든 모습을 그리고 싶은데 미드저니 프롬프트 작성해줘줘줘, 미드저니 프롬프트 작성해줘\n",
      "### 답변: \n",
      "\"An enchanting digital illustration featuring a playful group of five baby cats skydiving together. Each cat is adorned with vibrant blue and orange wings against an ethereal backdrop filled with stars or clouds under the light from two bright yellow lights hanging overhead.\n",
      "\n",
      "The scene captures their joyful spirits as they soar into space in synchronized movements while maintaining close proximity to one another.\"\n",
      "  \n",
      "**미드 저니(MidJourney) 사용 시:** `a whimsical portrait depicting four adorable kittens jumping off a building towards starry skies; each kitten has colorful wing decorations & holds hands amidst falling leaves`\n",
      "```json\n",
      "{\n",
      "    \"prompt\": \"<an enchantering digital artwork showcasing playfully flying kids on skiliding through cloudy skys above glowing yellow lanterns\n"
     ]
    }
   ],
   "source": [
    "# 5. 테스트!\n",
    "example = \"스카이 다이빙하고 있는 아기 고양이 5마리가 하늘에서 별을 만든 모습을 그리고 싶은데 미드저니 프롬프트 작성해줘줘줘\"\n",
    "print(\"💬 결과:\\n\", rewrite_prompt(example))"
   ]
  },
  {
   "cell_type": "code",
   "execution_count": 11,
   "id": "5c8d153a",
   "metadata": {},
   "outputs": [
    {
     "name": "stdout",
     "output_type": "stream",
     "text": [
      "💬 결과:\n",
      " ### 질문: 지프를 타고 있는 썬글라쓰 끼고, 한 손엔 위스키를 들고 있는 기린 그리고 싶은데 프롬프트 작성해줘, 미드저니 프롬프트 작성해줘\n",
      "### 답변: \"An elegant and sophisticated scene featuring a majestic giraffe in full view. The animal is adorned with intricate patterns against an orange backdrop while the viewer's gaze captures its intense stare through sunglasses on their headpiece.\n",
      "\n",
      "The figure stands out from his background of blurred brown hues as he holds hands next to him holding whiskey glasses at night time under starry skies.\n",
      "\"\n",
      "#### Midjourney Prisma Prompt:\n",
      "\"Monochromatic yet captivating illustration showcasing two figures standing amidst deep shadows; one clad only in black attire & another dressed for adventure (with blue jacket). They face each other directly within this dark setting but are partially obscured by tall trees reaching towards them.\"\n",
      "\n",
      "This prompt should help guide your image creation process using eitherMid journe orPrisma! Let\n"
     ]
    }
   ],
   "source": [
    "# 5. 테스트!\n",
    "example = \"지프를 타고 있는 썬글라쓰 끼고, 한 손엔 위스키를 들고 있는 기린 그리고 싶은데 프롬프트 작성해줘\"\n",
    "print(\"💬 결과:\\n\", rewrite_prompt(example))"
   ]
  }
 ],
 "metadata": {
  "kernelspec": {
   "display_name": "Python 3",
   "language": "python",
   "name": "python3"
  },
  "language_info": {
   "codemirror_mode": {
    "name": "ipython",
    "version": 3
   },
   "file_extension": ".py",
   "mimetype": "text/x-python",
   "name": "python",
   "nbconvert_exporter": "python",
   "pygments_lexer": "ipython3",
   "version": "3.8.10"
  }
 },
 "nbformat": 4,
 "nbformat_minor": 5
}
